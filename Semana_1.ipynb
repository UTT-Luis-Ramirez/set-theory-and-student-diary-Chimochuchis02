{
  "nbformat": 4,
  "nbformat_minor": 0,
  "metadata": {
    "colab": {
      "provenance": []
    },
    "kernelspec": {
      "name": "python3",
      "display_name": "Python 3"
    },
    "language_info": {
      "name": "python"
    }
  },
  "cells": [
    {
      "cell_type": "markdown",
      "source": [
        "#Probabilidad\n"
      ],
      "metadata": {
        "id": "Z8_0UdBuyQOS"
      }
    },
    {
      "cell_type": "markdown",
      "source": [
        "##Datos extras:\n",
        "\n",
        "**El azar o aleatoriedad NO EXISTE**\n",
        "\n",
        "**Eventos es una palabra abstracta.**\n",
        "\n",
        "Palabra importante en progra: **COLECCIONES**, **es un conjunto de agrupacion de cosas, un elemento puede ser cualquier cosa.**"
      ],
      "metadata": {
        "id": "z35Ji_Hqyj_h"
      }
    },
    {
      "cell_type": "markdown",
      "source": [
        "#TEORIA DE CONJUNTOS."
      ],
      "metadata": {
        "id": "22n5aMAg0ieu"
      }
    },
    {
      "cell_type": "markdown",
      "source": [
        "##***1.1. Conceptos Basicos de Conjuntos:***\n",
        "***¿PORQUE ES IMPORTANTE?***\n",
        "Es importante para poder comprender las matematicas modernas al igual que nos ayuda mucho a organizar todas las matematicas.\n",
        "\n",
        "\n",
        "\n",
        "Trabajamos con colecciones de elementos que comparten caracteristicas en comun.\n",
        "\n",
        "NOTACION: Los conjuntos se denotan con letras mayusculas(Por ejemplo A) y sus elementos se escriben entre llaves:\n",
        "\n",
        "##***A = {1,2,3,4,5,6}***\n",
        "\n",
        "Hablando de un DADO de 6 caras."
      ],
      "metadata": {
        "id": "XM8iq01m0q0a"
      }
    },
    {
      "cell_type": "markdown",
      "source": [
        "##***1.2 Universo(U)***\n",
        "El universo de un conjunto que contiene un dado de 6 caras se denota comunmente como **U**.\n",
        "\n",
        "***U = {1,2,3,4,5,6}***\n",
        "\n",
        "***E = {5,6}***\n",
        "\n",
        "##***E U***\n"
      ],
      "metadata": {
        "id": "7L7OdZ491X62"
      }
    },
    {
      "cell_type": "markdown",
      "source": [
        "##***1.3 Conjunto Vacío***\n",
        "Es un conjunto que no tiene elementos. **Se denota como 0 o {}**.\n",
        "\n",
        "#***0 = {}***"
      ],
      "metadata": {
        "id": "5VMyx2nS3JSY"
      }
    },
    {
      "cell_type": "markdown",
      "source": [
        "##***1.4. SUBCONJUNTOS***\n",
        "***Que este dentro de otro conjunto….***\n",
        "por ejemplo:\n",
        "\n",
        "***U = {1,2,3,4,5,6}***\n",
        "\n",
        "un subconjunto de puros “numeros pares” A\n",
        "\n",
        "***A = {2,4,6} = U***\n",
        "\n",
        "#***A ⊆ U***"
      ],
      "metadata": {
        "id": "bOx4IMrs3hGG"
      }
    },
    {
      "cell_type": "markdown",
      "source": [
        "##***1.5 Interseccion de Conjuntos.***\n",
        "La interseccion de dos conjuntos ***A Y B*** es el ***conjunto*** que pertenece a ambos.\n",
        "\n",
        "Se denota como A n B.\n",
        "\n",
        "Conjunto universo U:\n",
        "U={1,2,3,4,5,6}\n",
        "\n",
        "Subconjunto E:\n",
        "𝐸 = {5,6}\n",
        "\n",
        "#***E ∩ U***\n"
      ],
      "metadata": {
        "id": "ADUquR5z4e0E"
      }
    },
    {
      "cell_type": "markdown",
      "source": [
        "#***1.6 UNION de Conjuntos.***\n",
        "\n",
        "***Básicamente como una suma de ambos conjuntos.***\n",
        "\n",
        "Conjunto universo:\n",
        "\n",
        "𝑈={1,2,3,4,5,6}\n",
        "\n",
        "Subconjunto:\n",
        "\n",
        "E={5,6}\n",
        "\n",
        "##***E ∪ U***"
      ],
      "metadata": {
        "id": "1OEL5J067C1P"
      }
    },
    {
      "cell_type": "markdown",
      "source": [
        "#***1.7 Diferencia de conjuntos.***\n",
        "Que no estan los mismos elementos en dos conjuntos."
      ],
      "metadata": {
        "id": "AGg_kd6V8uZy"
      }
    },
    {
      "cell_type": "markdown",
      "source": [
        "###***1.8 Complementos de Conjuntos***\n",
        "Elementos que no hay en otro conjunto pero, que si estan en el UNIVERSO."
      ],
      "metadata": {
        "id": "B_4AP1Nd95Hv"
      }
    },
    {
      "cell_type": "markdown",
      "source": [
        "##***Conjuntos Determinando Axiomas:***\n"
      ],
      "metadata": {
        "id": "kIZ32CkpF50I"
      }
    },
    {
      "cell_type": "markdown",
      "source": [
        "###***Universo de Posibilidades U***\n",
        "Dado que usamos **5** **dados de 6 caras**, el **universo** de posibles resultados es:\n",
        "\n",
        "\n",
        "#U:\n",
        "\n",
        "# {1.1,2.1,3.1,4.1,5.1,6.1,1.2,2.2,3.2,4.2,5.2,6.2,1.3,2.3,3.3,4.3,5.3,6.3,1.4,2.4,3.4,4.4,5.4,6.4,1.5,2.5,3.5,4.5,5.5,6.5}"
      ],
      "metadata": {
        "id": "8t7RJp6AGRak"
      }
    },
    {
      "cell_type": "markdown",
      "source": [
        "#Conjuntos según criterios específicos\n",
        "##Conjunto de todos los resultados obtenidos en cualquier tirada:\n",
        "#**T = {1,2,3,4,5,6}**\n",
        "##Conjunto de tiradas múltiples (números dentro de paréntesis):\n",
        "#**TM = {6,4,1,6,6,4,5,4,6,3,4,1,4,2,3,1}**\n",
        "#Conjunto de tiradas individuales (sin los valores entre paréntesis):\n",
        "#**TI = {2,3,5,5,2,6,1,6,6,4}**\n"
      ],
      "metadata": {
        "id": "hO06D-I5Kmo4"
      }
    },
    {
      "cell_type": "markdown",
      "source": [
        "#***Subconjuntos interesantes***\n",
        "##**Tiradas altas (4 o más):**\n",
        "***A={4,5,6}***\n",
        "##**Tiradas bajas (menores a 4):**\n",
        "***B={1,2,3}***\n",
        "##**Tiradas repetidas (los números que salieron más de una vez):**\n",
        "***R={6,4,5,1,3,2}***\n",
        "\n",
        "***(Todos los números fueron repetidos al menos una vez).***\n",
        "\n",
        "##**Tiradas únicas (números que solo aparecen una vez en cualquier tirada):**\n",
        "***No hay ninguno, porque todos los números del dado se repiten en alguna tirada.***"
      ],
      "metadata": {
        "id": "g-Y28PlDMSNr"
      }
    },
    {
      "cell_type": "markdown",
      "source": [
        "**Intersección: Números que aparecen tanto en tiradas individuales como múltiples**\n",
        "\n",
        "***TI ∩ TM ={2,3,4,5,6,1}, Todos se repiten***\n",
        "\n",
        "**Unión: Todos los números que han salido en cualquier tirada**\n",
        "\n",
        "***TI U TM = {1,2,3,4,5,6}***\n"
      ],
      "metadata": {
        "id": "TITfOOOUPiyo"
      }
    }
  ]
}